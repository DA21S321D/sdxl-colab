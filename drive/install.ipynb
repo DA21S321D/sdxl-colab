{
  "cells": [
    {
      "cell_type": "markdown",
      "metadata": {
        "id": "view-in-github"
      },
      "source": [
        "[![Open In Colab](https://colab.research.google.com/assets/colab-badge.svg)](https://colab.research.google.com/github/camenduru/sdxl-colab/blob/main/drive/install.ipynb)"
      ]
    },
    {
      "cell_type": "code",
      "execution_count": null,
      "metadata": {
        "id": "SaAJk33ppFw1"
      },
      "outputs": [],
      "source": [
        "%cd /content\n",
        "from google.colab import drive\n",
        "drive.mount('/content/drive')\n",
        "\n",
        "%env PYTHONDONTWRITEBYTECODE=1\n",
        "%env TF_CPP_MIN_LOG_LEVEL=1\n",
        "!apt-get -y install -qq aria2\n",
        "\n",
        "!git clone -b v2.6 https://dagshub.com/camenduru/ui /content/drive/MyDrive/ui-colab/ui\n",
        "!git -C /content/drive/MyDrive/ui-colab/ui checkout -f v2.6\n",
        "!git -C /content/drive/MyDrive/ui-colab/ui reset --hard\n",
        "!git -C /content/drive/MyDrive/ui-colab/ui pull origin v2.6\n",
        "\n",
        "!rm -rf /content/drive/MyDrive/ui-colab/ui/extensions/deforum\n",
        "!git clone https://dagshub.com/camenduru/deforum /content/drive/MyDrive/ui-colab/ui/extensions/deforum\n",
        "!rm -rf /content/drive/MyDrive/ui-colab/ui/extensions/control\n",
        "!git clone https://dagshub.com/camenduru/control /content/drive/MyDrive/ui-colab/ui/extensions/control\n",
        "\n",
        "%cd /content/drive/MyDrive/ui-colab/ui\n",
        "\n",
        "!aria2c --console-log-level=error -c -x 16 -s 16 -k 1M https://huggingface.co/ckpt/sd_xl_base_1.0/resolve/main/sd_xl_base_1.0_0.9vae.safetensors -d /content/drive/MyDrive/ui-colab/ui/models/Stable-diffusion -o sd_xl_base_1.0.safetensors\n",
        "!aria2c --console-log-level=error -c -x 16 -s 16 -k 1M https://huggingface.co/ckpt/sd_xl_refiner_1.0/resolve/main/sd_xl_refiner_1.0_0.9vae.safetensors -d /content/drive/MyDrive/ui-colab/ui/models/Stable-diffusion -o sd_xl_refiner_1.0.safetensors\n",
        "\n",
        "!sed -i -e 's/    start()/    #start()/g' /content/drive/MyDrive/ui-colab/ui/launch.py\n",
        "!sed -i -e 's/checkout {commithash}/checkout --force {commithash}/g' /content/drive/MyDrive/ui-colab/ui/modules/launch_utils.py\n",
        "\n",
        "%cd /content/drive/MyDrive/ui-colab/ui\n",
        "!python launch.py --skip-torch-cuda-test\n",
        "\n",
        "print(\"Installed\")"
      ]
    }
  ],
  "metadata": {
    "colab": {
      "collapsed_sections": [],
      "private_outputs": true,
      "provenance": []
    },
    "gpuClass": "standard",
    "kernelspec": {
      "display_name": "Python 3",
      "name": "python3"
    },
    "language_info": {
      "name": "python"
    }
  },
  "nbformat": 4,
  "nbformat_minor": 0
}
